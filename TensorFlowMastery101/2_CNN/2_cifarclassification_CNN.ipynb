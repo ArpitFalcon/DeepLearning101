{
 "cells": [
  {
   "cell_type": "markdown",
   "metadata": {},
   "source": [
    "# CIFAR - 10 Images "
   ]
  },
  {
   "cell_type": "code",
   "execution_count": 2,
   "metadata": {},
   "outputs": [],
   "source": [
    "# Libraries\n",
    "import tensorflow as tf\n",
    "from tensorflow.keras import layers, models, datasets, optimizers\n",
    "\n",
    "# Helper Lib\n",
    "import numpy as np"
   ]
  },
  {
   "cell_type": "code",
   "execution_count": 12,
   "metadata": {},
   "outputs": [],
   "source": [
    "# Cifar is a set of 60K images 32 * 32 with 3 color channels\n",
    "IMG_CHANNELS = 3\n",
    "IMG_ROWS = 32\n",
    "IMG_COLS = 32\n",
    "INPUT_SHAPE = (IMG_ROWS, IMG_COLS, IMG_CHANNELS)\n",
    "\n",
    "# Constants\n",
    "EPOCHS = 20\n",
    "BATCH_SIZE = 128\n",
    "CLASSES = 10\n",
    "VERBOSE = 1\n",
    "VALIDATION_SPLIT = 0.2\n",
    "OPTIM = optimizers.RMSprop()"
   ]
  },
  {
   "cell_type": "markdown",
   "metadata": {},
   "source": [
    "## One Layer CNN"
   ]
  },
  {
   "cell_type": "code",
   "execution_count": 4,
   "metadata": {},
   "outputs": [],
   "source": [
    "# Build the model\n",
    "def build(input_shape, classes):\n",
    "    model = models.Sequential()\n",
    "    \n",
    "    # CONV => RELU => POOL with Dropout\n",
    "    model.add(layers.Conv2D(32, (3, 3), activation='relu', input_shape=input_shape))\n",
    "    model.add(layers.MaxPooling2D(pool_size=(2, 2)))\n",
    "    model.add(layers.Dropout(0.25))\n",
    "    \n",
    "    # Flatten => RELU => Drop => Predict\n",
    "    model.add(layers.Flatten())\n",
    "    model.add(layers.Dense(512, activation='relu'))\n",
    "    model.add(layers.Dropout(0.5))\n",
    "    model.add(layers.Dense(classes, activation='softmax'))\n",
    "    \n",
    "    return model"
   ]
  },
  {
   "cell_type": "code",
   "execution_count": 10,
   "metadata": {},
   "outputs": [],
   "source": [
    "# Load the dataset\n",
    "((X_train, y_train), (X_test, y_test)) = tf.keras.datasets.cifar10.load_data()"
   ]
  },
  {
   "cell_type": "code",
   "execution_count": 11,
   "metadata": {},
   "outputs": [],
   "source": [
    "# Normalize \n",
    "X_train, X_test = X_train / 255. , X_test / 255.\n",
    "\n",
    "# Cast\n",
    "X_train = X_train.astype('float32')\n",
    "X_test = X_test.astype('float32')\n",
    "\n",
    "# Conver class vectors to binary class vectors\n",
    "y_train = tf.keras.utils.to_categorical(y_train, CLASSES)\n",
    "y_test = tf.keras.utils.to_categorical(y_test, CLASSES)"
   ]
  },
  {
   "cell_type": "code",
   "execution_count": 15,
   "metadata": {},
   "outputs": [
    {
     "name": "stdout",
     "output_type": "stream",
     "text": [
      "Epoch 1/20\n",
      "313/313 [==============================] - 37s 119ms/step - loss: 1.7045 - accuracy: 0.3959 - val_loss: 1.5811 - val_accuracy: 0.4620\n",
      "Epoch 2/20\n",
      "313/313 [==============================] - 41s 129ms/step - loss: 1.3629 - accuracy: 0.5208 - val_loss: 1.2173 - val_accuracy: 0.5806\n",
      "Epoch 3/20\n",
      "313/313 [==============================] - 41s 130ms/step - loss: 1.2361 - accuracy: 0.5649 - val_loss: 1.1457 - val_accuracy: 0.6052\n",
      "Epoch 4/20\n",
      "313/313 [==============================] - 41s 132ms/step - loss: 1.1493 - accuracy: 0.5961 - val_loss: 1.1663 - val_accuracy: 0.5959\n",
      "Epoch 5/20\n",
      "313/313 [==============================] - 46s 146ms/step - loss: 1.0699 - accuracy: 0.6251 - val_loss: 1.1198 - val_accuracy: 0.6086\n",
      "Epoch 6/20\n",
      "313/313 [==============================] - 43s 137ms/step - loss: 1.0138 - accuracy: 0.6468 - val_loss: 1.1085 - val_accuracy: 0.6096\n",
      "Epoch 7/20\n",
      "313/313 [==============================] - 44s 141ms/step - loss: 0.9587 - accuracy: 0.6672 - val_loss: 1.0715 - val_accuracy: 0.6267\n",
      "Epoch 8/20\n",
      "313/313 [==============================] - 46s 146ms/step - loss: 0.9092 - accuracy: 0.6847 - val_loss: 1.0363 - val_accuracy: 0.6484\n",
      "Epoch 9/20\n",
      "313/313 [==============================] - 44s 141ms/step - loss: 0.8691 - accuracy: 0.6953 - val_loss: 1.0432 - val_accuracy: 0.6488\n",
      "Epoch 10/20\n",
      "313/313 [==============================] - 45s 143ms/step - loss: 0.8346 - accuracy: 0.7111 - val_loss: 1.1195 - val_accuracy: 0.6317\n",
      "Epoch 11/20\n",
      "313/313 [==============================] - 46s 146ms/step - loss: 0.8000 - accuracy: 0.7222 - val_loss: 1.0242 - val_accuracy: 0.6488\n",
      "Epoch 12/20\n",
      "313/313 [==============================] - 46s 147ms/step - loss: 0.7578 - accuracy: 0.7372 - val_loss: 1.1001 - val_accuracy: 0.6446\n",
      "Epoch 13/20\n",
      "313/313 [==============================] - 42s 136ms/step - loss: 0.7209 - accuracy: 0.7500 - val_loss: 1.0548 - val_accuracy: 0.6523\n",
      "Epoch 14/20\n",
      "313/313 [==============================] - 43s 137ms/step - loss: 0.7007 - accuracy: 0.7581 - val_loss: 1.0675 - val_accuracy: 0.6610\n",
      "Epoch 15/20\n",
      "313/313 [==============================] - 43s 137ms/step - loss: 0.6670 - accuracy: 0.7679 - val_loss: 1.0785 - val_accuracy: 0.6496\n",
      "Epoch 16/20\n",
      "313/313 [==============================] - 42s 135ms/step - loss: 0.6440 - accuracy: 0.7785 - val_loss: 1.0299 - val_accuracy: 0.6775\n",
      "Epoch 17/20\n",
      "313/313 [==============================] - 44s 140ms/step - loss: 0.6245 - accuracy: 0.7851 - val_loss: 1.0882 - val_accuracy: 0.6605\n",
      "Epoch 18/20\n",
      "313/313 [==============================] - 44s 139ms/step - loss: 0.6012 - accuracy: 0.7940 - val_loss: 1.0818 - val_accuracy: 0.6729\n",
      "Epoch 19/20\n",
      "313/313 [==============================] - 43s 137ms/step - loss: 0.5809 - accuracy: 0.8016 - val_loss: 1.1343 - val_accuracy: 0.6717\n",
      "Epoch 20/20\n",
      "313/313 [==============================] - 43s 138ms/step - loss: 0.5653 - accuracy: 0.8072 - val_loss: 1.1650 - val_accuracy: 0.6424\n"
     ]
    },
    {
     "data": {
      "text/plain": [
       "<tensorflow.python.keras.callbacks.History at 0x21288fea748>"
      ]
     },
     "execution_count": 15,
     "metadata": {},
     "output_type": "execute_result"
    }
   ],
   "source": [
    "model = build(INPUT_SHAPE, CLASSES)\n",
    "model.compile(loss='categorical_crossentropy', optimizer=OPTIM, metrics=['accuracy'])\n",
    "model.fit(X_train, y_train, batch_size=BATCH_SIZE, epochs=EPOCHS, validation_split=VALIDATION_SPLIT, verbose=VERBOSE)"
   ]
  },
  {
   "cell_type": "code",
   "execution_count": 16,
   "metadata": {},
   "outputs": [
    {
     "name": "stdout",
     "output_type": "stream",
     "text": [
      "313/313 [==============================] - 2s 5ms/step - loss: 1.1453 - accuracy: 0.6370\n",
      "\n",
      "Test Score:  1.1452832221984863\n",
      "Test Accuracy:  0.6370000243186951\n"
     ]
    }
   ],
   "source": [
    "# Evaluating the model\n",
    "score = model.evaluate(X_test, y_test, verbose = VERBOSE)\n",
    "print('\\nTest Score: ', score[0])\n",
    "print('Test Accuracy: ', score[1])"
   ]
  },
  {
   "cell_type": "markdown",
   "metadata": {},
   "source": [
    "##### Model 1 - One Layer CNN\n",
    "Accuracy = 63.7%"
   ]
  },
  {
   "cell_type": "code",
   "execution_count": null,
   "metadata": {},
   "outputs": [],
   "source": []
  }
 ],
 "metadata": {
  "kernelspec": {
   "display_name": "Python 3",
   "language": "python",
   "name": "python3"
  },
  "language_info": {
   "codemirror_mode": {
    "name": "ipython",
    "version": 3
   },
   "file_extension": ".py",
   "mimetype": "text/x-python",
   "name": "python",
   "nbconvert_exporter": "python",
   "pygments_lexer": "ipython3",
   "version": "3.7.7"
  }
 },
 "nbformat": 4,
 "nbformat_minor": 4
}
