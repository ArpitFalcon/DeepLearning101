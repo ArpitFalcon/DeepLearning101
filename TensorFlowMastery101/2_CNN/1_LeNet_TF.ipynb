{
 "cells": [
  {
   "cell_type": "markdown",
   "metadata": {},
   "source": [
    "# LeNet in TensorFlow"
   ]
  },
  {
   "cell_type": "code",
   "execution_count": 1,
   "metadata": {},
   "outputs": [],
   "source": [
    "# Import Libraries\n",
    "import tensorflow as tf\n",
    "from tensorflow.keras import datasets, layers, models, optimizers"
   ]
  },
  {
   "cell_type": "code",
   "execution_count": 2,
   "metadata": {},
   "outputs": [],
   "source": [
    "# Network and Training\n",
    "EPOCHS = 5\n",
    "BATCH_SIZE = 128\n",
    "VERBOSE = 1\n",
    "OPTIMIZER = tf.keras.optimizers.Adam()\n",
    "VALIDAITON_SPLIT = 0.95\n",
    "IMG_ROWS, IMG_COLS = 28, 28 # input image dimensions\n",
    "INPUT_SHAPE = (IMG_ROWS, IMG_COLS, 1)\n",
    "NB_CLASSES = 10 # number of outputs"
   ]
  },
  {
   "cell_type": "code",
   "execution_count": 3,
   "metadata": {},
   "outputs": [],
   "source": [
    "# Define the model\n",
    "def build(input_shape, classes):\n",
    "    model = models.Sequential()\n",
    "    \n",
    "    # CONV => RELU => POOL\n",
    "    model.add(layers.Convolution2D(20, (5, 5), activation='relu', input_shape=input_shape))\n",
    "    model.add(layers.MaxPooling2D(pool_size=(2, 2), strides=(2, 2)))\n",
    "    \n",
    "    # CONV => RELU => POOL\n",
    "    model.add(layers.Convolution2D(50, (5, 5), activation='relu'))\n",
    "    model.add(layers.MaxPooling2D(pool_size=(2, 2), strides=(2, 2)))\n",
    "    \n",
    "    # Flatten => RELU\n",
    "    model.add(layers.Flatten())\n",
    "    model.add(layers.Dense(500, activation='relu'))\n",
    "    \n",
    "    # Softmax Classifier\n",
    "    model.add(layers.Dense(classes, activation='softmax'))\n",
    "    return model"
   ]
  },
  {
   "cell_type": "code",
   "execution_count": null,
   "metadata": {},
   "outputs": [],
   "source": []
  }
 ],
 "metadata": {
  "kernelspec": {
   "display_name": "Python 3",
   "language": "python",
   "name": "python3"
  },
  "language_info": {
   "codemirror_mode": {
    "name": "ipython",
    "version": 3
   },
   "file_extension": ".py",
   "mimetype": "text/x-python",
   "name": "python",
   "nbconvert_exporter": "python",
   "pygments_lexer": "ipython3",
   "version": "3.7.7"
  }
 },
 "nbformat": 4,
 "nbformat_minor": 4
}
