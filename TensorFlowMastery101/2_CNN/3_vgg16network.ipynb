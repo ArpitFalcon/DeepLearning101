{
  "nbformat": 4,
  "nbformat_minor": 0,
  "metadata": {
    "colab": {
      "name": "3_vgg16network",
      "provenance": []
    },
    "kernelspec": {
      "name": "python3",
      "display_name": "Python 3"
    }
  },
  "cells": [
    {
      "cell_type": "markdown",
      "metadata": {
        "id": "G81Xd8qpCt7M",
        "colab_type": "text"
      },
      "source": [
        "# VGG 16 Network"
      ]
    },
    {
      "cell_type": "code",
      "metadata": {
        "id": "CRGzLDwVCuCc",
        "colab_type": "code",
        "colab": {}
      },
      "source": [
        "# Load the libraries\n",
        "import tensorflow as tf\n",
        "from tensorflow.keras import layers, models"
      ],
      "execution_count": 13,
      "outputs": []
    },
    {
      "cell_type": "markdown",
      "metadata": {
        "id": "68eBK_sYCv-b",
        "colab_type": "text"
      },
      "source": [
        "### Define a VGG16 Network\n",
        "Note - The weights used here is pretrained and are stored [here.](https://www.kaggle.com/keras/vgg16?select=vgg16_weights_tf_dim_ordering_tf_kernels.h5)"
      ]
    },
    {
      "cell_type": "code",
      "metadata": {
        "id": "KqlS4kP3CxGa",
        "colab_type": "code",
        "colab": {}
      },
      "source": [
        "def VGG_16(weights_path=None):\n",
        "    model = models.Sequential()\n",
        "    model.add(layers.ZeroPadding2D((1, 1), input_shape=(224, 224, 3)))\n",
        "    model.add(layers.Convolution2D(64, (3, 3), activation='relu'))\n",
        "    model.add(layers.ZeroPadding2D((1,1)))\n",
        "    model.add(layers.Convolution2D(64, (3, 3), activation='relu'))\n",
        "    model.add(layers.MaxPooling2D((2,2), strides=(2,2)))\n",
        "    \n",
        "    model.add(layers.ZeroPadding2D((1,1)))\n",
        "    model.add(layers.Convolution2D(128, (3, 3), activation='relu'))\n",
        "    model.add(layers.ZeroPadding2D((1,1)))\n",
        "    model.add(layers.Convolution2D(128, (3, 3), activation='relu'))\n",
        "    model.add(layers.MaxPooling2D((2,2), strides=(2,2)))\n",
        "    \n",
        "    model.add(layers.ZeroPadding2D((1,1)))\n",
        "    model.add(layers.Convolution2D(256, (3, 3), activation='relu'))\n",
        "    model.add(layers.ZeroPadding2D((1,1)))\n",
        "    model.add(layers.Convolution2D(256, (3, 3), activation='relu'))\n",
        "    model.add(layers.ZeroPadding2D((1,1)))\n",
        "    model.add(layers.Convolution2D(256, (3, 3), activation='relu'))\n",
        "    model.add(layers.MaxPooling2D((2,2), strides=(2,2)))\n",
        "    \n",
        "    model.add(layers.ZeroPadding2D((1,1)))\n",
        "    model.add(layers.Convolution2D(512, (3, 3), activation='relu'))\n",
        "    model.add(layers.ZeroPadding2D((1,1)))\n",
        "    model.add(layers.Convolution2D(512, (3, 3), activation='relu'))\n",
        "    model.add(layers.ZeroPadding2D((1,1)))\n",
        "    model.add(layers.Convolution2D(512, (3, 3), activation='relu'))\n",
        "    model.add(layers.MaxPooling2D((2,2), strides=(2,2)))\n",
        "    \n",
        "    model.add(layers.ZeroPadding2D((1,1)))\n",
        "    model.add(layers.Convolution2D(512, (3, 3), activation='relu'))\n",
        "    model.add(layers.ZeroPadding2D((1,1)))\n",
        "    model.add(layers.Convolution2D(512, (3, 3), activation='relu'))\n",
        "    model.add(layers.ZeroPadding2D((1,1)))\n",
        "    model.add(layers.Convolution2D(512, (3, 3), activation='relu'))\n",
        "    model.add(layers.MaxPooling2D((2,2), strides=(2,2)))\n",
        "    \n",
        "    model.add(layers.Flatten())\n",
        "    \n",
        "    #top layer of the VGG net\n",
        "    model.add(layers.Dense(4096, activation='relu'))\n",
        "    model.add(layers.Dropout(0.5))\n",
        "    model.add(layers.Dense(4096, activation='relu'))\n",
        "    model.add(layers.Dropout(0.5))\n",
        "    model.add(layers.Dense(1000, activation='softmax'))\n",
        "    \n",
        "    if weights_path:\n",
        "        model.load_weights(weights_path)\n",
        "\n",
        "    return model"
      ],
      "execution_count": 14,
      "outputs": []
    },
    {
      "cell_type": "code",
      "metadata": {
        "id": "FWYmHqHxC_m6",
        "colab_type": "code",
        "colab": {
          "base_uri": "https://localhost:8080/",
          "height": 35
        },
        "outputId": "c76b8710-9166-4e23-9ce6-1ef762d0eb23"
      },
      "source": [
        "# Downloading the dataset from kaggle\n",
        "# %cd drive\n",
        "# %cd 'My Drive'\n",
        "# %cd Kaggle\n",
        "\n",
        "import os\n",
        "os.environ['KAGGLE_CONFIG_DIR'] = \"/content/drive/My Drive/Kaggle\"\n",
        "\n",
        "!kaggle datasets download -d keras/vgg16"
      ],
      "execution_count": 15,
      "outputs": [
        {
          "output_type": "stream",
          "text": [
            "vgg16.zip: Skipping, found more recently modified local copy (use --force to force download)\n"
          ],
          "name": "stdout"
        }
      ]
    },
    {
      "cell_type": "code",
      "metadata": {
        "id": "G9U53yLTKOQq",
        "colab_type": "code",
        "colab": {}
      },
      "source": [
        "# Using the predefined weights\n",
        "import cv2\n",
        "im = cv2.resize(cv2.imread('/content/drive/My Drive/projects/steam-locomotive.jpg'), (224,224)).astype(np.float32)\n",
        "# im = im.transpose((2, 0, 1))\n",
        "im = np.expand_dims(im, axis=0)\n",
        "\n",
        "# Test the pretrained model\n",
        "model = VGG_16('/content/drive/My Drive/kaggle/vgg_16_weights_tf_dim_ordering_tf_kernerls.h5')\n",
        "model.summary()\n",
        "model.compile(optimizer='sgd', loss='categorical_crossentropy')\n",
        "out = model.predict(im)\n",
        "print(np.argmax(out))"
      ],
      "execution_count": null,
      "outputs": []
    },
    {
      "cell_type": "markdown",
      "metadata": {
        "id": "MN9kVGmeFGZk",
        "colab_type": "text"
      },
      "source": [
        "# Utilizing tf.keras built-in VGG16 Net module"
      ]
    },
    {
      "cell_type": "code",
      "metadata": {
        "id": "N_mDAzZZEXp-",
        "colab_type": "code",
        "colab": {
          "base_uri": "https://localhost:8080/",
          "height": 283
        },
        "outputId": "a346afde-821a-4133-a213-692942c45c4c"
      },
      "source": [
        "import tensorflow as tf\n",
        "from tensorflow.keras.applications.vgg16 import VGG16\n",
        "import matplotlib.pyplot as plt\n",
        "import numpy as np\n",
        "import cv2\n",
        "from IPython.display import Image, display\n",
        "\n",
        "# prebuild model with pre-trained weights on imagenet\n",
        "model = VGG16(weights='imagenet', include_top=True)\n",
        "model.compile(optimizer='sgd', loss='categorical_crossentropy')\n",
        "\n",
        "# resize into VGG16 trained images' format\n",
        "image = cv2.imread('/content/drive/My Drive/projects/steam-locomotive.jpg', 1)\n",
        "im = cv2.resize(image, (224, 224)).astype(np.float32)\n",
        "im = np.expand_dims(im, axis=0)\n",
        "\n",
        "# predict\n",
        "out = model.predict(im)\n",
        "index = np.argmax(out)\n",
        "print(index)\n",
        "\n",
        "plt.plot(out.ravel())\n",
        "plt.show()"
      ],
      "execution_count": 31,
      "outputs": [
        {
          "output_type": "stream",
          "text": [
            "820\n"
          ],
          "name": "stdout"
        },
        {
          "output_type": "display_data",
          "data": {
            "image/png": "[encoded data removed]",
            "text/plain": [
              "<Figure size 432x288 with 1 Axes>"
            ]
          },
          "metadata": {
            "tags": [],
            "needs_background": "light"
          }
        }
      ]
    },
    {
      "cell_type": "code",
      "metadata": {
        "id": "apSKB33BFvVV",
        "colab_type": "code",
        "colab": {}
      },
      "source": [
        ""
      ],
      "execution_count": null,
      "outputs": []
    }
  ]
}