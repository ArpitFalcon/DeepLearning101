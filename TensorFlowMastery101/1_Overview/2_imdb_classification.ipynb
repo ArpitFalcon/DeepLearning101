{
  "nbformat": 4,
  "nbformat_minor": 0,
  "metadata": {
    "kernelspec": {
      "display_name": "Python 3",
      "language": "python",
      "name": "python3"
    },
    "language_info": {
      "codemirror_mode": {
        "name": "ipython",
        "version": 3
      },
      "file_extension": ".py",
      "mimetype": "text/x-python",
      "name": "python",
      "nbconvert_exporter": "python",
      "pygments_lexer": "ipython3",
      "version": "3.7.3"
    },
    "colab": {
      "name": "2_imdb_classification.ipynb",
      "provenance": []
    },
    "accelerator": "GPU"
  },
  "cells": [
    {
      "cell_type": "markdown",
      "metadata": {
        "id": "tLHmumAReGk9",
        "colab_type": "text"
      },
      "source": [
        "# Keras and TF 2.0"
      ]
    },
    {
      "cell_type": "code",
      "metadata": {
        "id": "1QaqjFbKeGk-",
        "colab_type": "code",
        "colab": {}
      },
      "source": [
        "# Loading the libraries\n",
        "import tensorflow as tf\n",
        "from tensorflow.keras import datasets, layers, models, preprocessing\n",
        "import tensorflow_datasets as tfds"
      ],
      "execution_count": 3,
      "outputs": []
    },
    {
      "cell_type": "code",
      "metadata": {
        "id": "A55BfR_sgu33",
        "colab_type": "code",
        "colab": {}
      },
      "source": [
        "# Setting variables\n",
        "max_len = 200\n",
        "n_words = 10000\n",
        "dim_embedding = 256\n",
        "EPOCHS = 20\n",
        "BATCH_SIZE = 500"
      ],
      "execution_count": 4,
      "outputs": []
    },
    {
      "cell_type": "code",
      "metadata": {
        "id": "r8nRNnbOgwyZ",
        "colab_type": "code",
        "colab": {}
      },
      "source": [
        "def load_data():\n",
        "    (X_train, y_train), (X_test, y_test) = datasets.imdb.load_data(num_words = n_words)\n",
        "    # Pad sequences with max_len\n",
        "    X_train = preprocessing.sequence.pad_sequences(X_train, maxlen = max_len)\n",
        "    X_test = preprocessing.sequence.pad_sequences(X_test, maxlen = max_len)\n",
        "    return (X_train, y_train), (X_test, y_test)"
      ],
      "execution_count": 5,
      "outputs": []
    },
    {
      "cell_type": "code",
      "metadata": {
        "id": "6G5OK-Cdh3Oq",
        "colab_type": "code",
        "colab": {}
      },
      "source": [
        "def build_model():\n",
        "    model = models.Sequential()\n",
        "    #Input - Embedding Layer\n",
        "    # The model will take as input an integer matrix of size (batch, input_length)\n",
        "    # The model will output dimension (input_length, dim_embedding)\n",
        "    # The largest integer in the input should be no larger than n_words\n",
        "    model.add(layers.Embedding(n_words, dim_embedding, input_length = max_len))\n",
        "    model.add(layers.Dropout(0.3))\n",
        "    \n",
        "    #Takes the max value of either feature vector from each of the n_words features\n",
        "    model.add(layers.GlobalMaxPooling1D())\n",
        "    model.add(layers.Dense(128, activation = 'relu'))\n",
        "    model.add(layers.Dropout(0.5))\n",
        "    model.add(layers.Dense(1, activation = 'sigmoid'))\n",
        "    \n",
        "    return model"
      ],
      "execution_count": 6,
      "outputs": []
    },
    {
      "cell_type": "code",
      "metadata": {
        "id": "8Ey8F2E-h4yB",
        "colab_type": "code",
        "colab": {
          "base_uri": "https://localhost:8080/",
          "height": 397
        },
        "outputId": "58d915cd-f355-4efe-b29e-af43643f4fcc"
      },
      "source": [
        "(X_train, y_train), (X_test, y_test) = load_data()\n",
        "model = build_model()\n",
        "model.summary()"
      ],
      "execution_count": 7,
      "outputs": [
        {
          "output_type": "stream",
          "text": [
            "Downloading data from https://storage.googleapis.com/tensorflow/tf-keras-datasets/imdb.npz\n",
            "17465344/17464789 [==============================] - 0s 0us/step\n",
            "Model: \"sequential\"\n",
            "_________________________________________________________________\n",
            "Layer (type)                 Output Shape              Param #   \n",
            "=================================================================\n",
            "embedding (Embedding)        (None, 200, 256)          2560000   \n",
            "_________________________________________________________________\n",
            "dropout (Dropout)            (None, 200, 256)          0         \n",
            "_________________________________________________________________\n",
            "global_max_pooling1d (Global (None, 256)               0         \n",
            "_________________________________________________________________\n",
            "dense (Dense)                (None, 128)               32896     \n",
            "_________________________________________________________________\n",
            "dropout_1 (Dropout)          (None, 128)               0         \n",
            "_________________________________________________________________\n",
            "dense_1 (Dense)              (None, 1)                 129       \n",
            "=================================================================\n",
            "Total params: 2,593,025\n",
            "Trainable params: 2,593,025\n",
            "Non-trainable params: 0\n",
            "_________________________________________________________________\n"
          ],
          "name": "stdout"
        }
      ]
    },
    {
      "cell_type": "code",
      "metadata": {
        "id": "0oTJpNZTiH_n",
        "colab_type": "code",
        "colab": {}
      },
      "source": [
        "# Compiling the model\n",
        "model.compile(optimizer = 'adam', loss = 'binary_crossentropy', metrics = ['accuracy'])"
      ],
      "execution_count": 8,
      "outputs": []
    },
    {
      "cell_type": "code",
      "metadata": {
        "id": "DQlExo9GkMNO",
        "colab_type": "code",
        "colab": {
          "base_uri": "https://localhost:8080/",
          "height": 708
        },
        "outputId": "2737ae11-c599-4e22-af4d-d9656441beff"
      },
      "source": [
        "score = model.fit(X_train, y_train, epochs = EPOCHS, batch_size = BATCH_SIZE, validation_data= (X_test, y_test))"
      ],
      "execution_count": 9,
      "outputs": [
        {
          "output_type": "stream",
          "text": [
            "Epoch 1/20\n",
            "50/50 [==============================] - 5s 107ms/step - loss: 0.6745 - accuracy: 0.6148 - val_loss: 0.6373 - val_accuracy: 0.8268\n",
            "Epoch 2/20\n",
            "50/50 [==============================] - 5s 102ms/step - loss: 0.4769 - accuracy: 0.8347 - val_loss: 0.3754 - val_accuracy: 0.8544\n",
            "Epoch 3/20\n",
            "50/50 [==============================] - 5s 103ms/step - loss: 0.2870 - accuracy: 0.8820 - val_loss: 0.3073 - val_accuracy: 0.8740\n",
            "Epoch 4/20\n",
            "50/50 [==============================] - 5s 102ms/step - loss: 0.2213 - accuracy: 0.9138 - val_loss: 0.2924 - val_accuracy: 0.8774\n",
            "Epoch 5/20\n",
            "50/50 [==============================] - 5s 102ms/step - loss: 0.1750 - accuracy: 0.9370 - val_loss: 0.2870 - val_accuracy: 0.8782\n",
            "Epoch 6/20\n",
            "50/50 [==============================] - 5s 103ms/step - loss: 0.1360 - accuracy: 0.9536 - val_loss: 0.2917 - val_accuracy: 0.8741\n",
            "Epoch 7/20\n",
            "50/50 [==============================] - 5s 103ms/step - loss: 0.1061 - accuracy: 0.9662 - val_loss: 0.3013 - val_accuracy: 0.8700\n",
            "Epoch 8/20\n",
            "50/50 [==============================] - 5s 103ms/step - loss: 0.0816 - accuracy: 0.9762 - val_loss: 0.3298 - val_accuracy: 0.8615\n",
            "Epoch 9/20\n",
            "50/50 [==============================] - 5s 102ms/step - loss: 0.0604 - accuracy: 0.9829 - val_loss: 0.3332 - val_accuracy: 0.8623\n",
            "Epoch 10/20\n",
            "50/50 [==============================] - 5s 99ms/step - loss: 0.0455 - accuracy: 0.9898 - val_loss: 0.3487 - val_accuracy: 0.8606\n",
            "Epoch 11/20\n",
            "50/50 [==============================] - 5s 101ms/step - loss: 0.0339 - accuracy: 0.9926 - val_loss: 0.3658 - val_accuracy: 0.8591\n",
            "Epoch 12/20\n",
            "50/50 [==============================] - 5s 100ms/step - loss: 0.0268 - accuracy: 0.9944 - val_loss: 0.3847 - val_accuracy: 0.8571\n",
            "Epoch 13/20\n",
            "50/50 [==============================] - 5s 101ms/step - loss: 0.0204 - accuracy: 0.9963 - val_loss: 0.4014 - val_accuracy: 0.8545\n",
            "Epoch 14/20\n",
            "50/50 [==============================] - 5s 104ms/step - loss: 0.0175 - accuracy: 0.9967 - val_loss: 0.4151 - val_accuracy: 0.8528\n",
            "Epoch 15/20\n",
            "50/50 [==============================] - 5s 103ms/step - loss: 0.0136 - accuracy: 0.9975 - val_loss: 0.4307 - val_accuracy: 0.8530\n",
            "Epoch 16/20\n",
            "50/50 [==============================] - 5s 103ms/step - loss: 0.0112 - accuracy: 0.9982 - val_loss: 0.4465 - val_accuracy: 0.8521\n",
            "Epoch 17/20\n",
            "50/50 [==============================] - 5s 99ms/step - loss: 0.0092 - accuracy: 0.9985 - val_loss: 0.4597 - val_accuracy: 0.8502\n",
            "Epoch 18/20\n",
            "50/50 [==============================] - 5s 99ms/step - loss: 0.0079 - accuracy: 0.9988 - val_loss: 0.4811 - val_accuracy: 0.8490\n",
            "Epoch 19/20\n",
            "50/50 [==============================] - 5s 101ms/step - loss: 0.0064 - accuracy: 0.9994 - val_loss: 0.4842 - val_accuracy: 0.8504\n",
            "Epoch 20/20\n",
            "50/50 [==============================] - 5s 99ms/step - loss: 0.0055 - accuracy: 0.9993 - val_loss: 0.4967 - val_accuracy: 0.8502\n"
          ],
          "name": "stdout"
        }
      ]
    },
    {
      "cell_type": "code",
      "metadata": {
        "id": "JR2FFhfckXXK",
        "colab_type": "code",
        "colab": {
          "base_uri": "https://localhost:8080/",
          "height": 86
        },
        "outputId": "7c0a8201-04ab-4a31-8fbb-3d2348fb3991"
      },
      "source": [
        "score = model.evaluate(X_test, y_test, batch_size = BATCH_SIZE)\n",
        "print('\\nTest Score: ', score[0])\n",
        "print('Test Accuracy: ', score[1])"
      ],
      "execution_count": 10,
      "outputs": [
        {
          "output_type": "stream",
          "text": [
            "50/50 [==============================] - 1s 24ms/step - loss: 0.4967 - accuracy: 0.8502\n",
            "\n",
            "Test Score:  0.49666714668273926\n",
            "Test Accuracy:  0.8502399921417236\n"
          ],
          "name": "stdout"
        }
      ]
    }
  ]
}