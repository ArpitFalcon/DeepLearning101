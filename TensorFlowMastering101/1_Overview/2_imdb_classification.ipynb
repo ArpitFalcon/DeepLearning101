{
 "cells": [
  {
   "cell_type": "markdown",
   "metadata": {},
   "source": [
    "# Keras and TF 2.0"
   ]
  },
  {
   "cell_type": "code",
   "execution_count": 4,
   "metadata": {},
   "outputs": [],
   "source": [
    "# Loading the libraries\n",
    "import tensorflow as tf\n",
    "from tensorflow.keras import datasets, layers, models, preprocessing\n",
    "import tensorflow_datasets as tfds"
   ]
  },
  {
   "cell_type": "code",
   "execution_count": 3,
   "metadata": {},
   "outputs": [],
   "source": [
    "# Setting variables\n",
    "max_len = 200\n",
    "n_words = 10000\n",
    "dim_embedding = 256\n",
    "EPOCHS = 20\n",
    "BATCH_SIZE = 500"
   ]
  },
  {
   "cell_type": "code",
   "execution_count": 5,
   "metadata": {},
   "outputs": [],
   "source": [
    "def load_data():\n",
    "    (X_train, y_train), (X_test, y_test) = datasets.imdb.load_data(num_words = n_words)\n",
    "    # Pad sequences with max_len\n",
    "    X_train = preprocessing.pad_sequences(X_train, maxlen = max_len)\n",
    "    X_test = preprocessing.pad_sequences(X_test, maxlen = max_len)\n",
    "    return (X_train, y_train), (X_test, y_test)"
   ]
  },
  {
   "cell_type": "code",
   "execution_count": 6,
   "metadata": {},
   "outputs": [],
   "source": [
    "def build_model():\n",
    "    model = models.Sequential()\n",
    "    #Input - Embedding Layer\n",
    "    # The model will take as input an integer matrix of size (batch, input_length)\n",
    "    # The model will output dimension (input_length, dim_embedding)\n",
    "    # The largest integer in the input should be no larger than n_words\n",
    "    model.add(layers.Embedding(n_words, dim_embedding, input_length = max_len))\n",
    "    model.add(layers.Dropout(0.3))\n",
    "    \n",
    "    #Takes the max value of either feature vector from each of the n_words features\n",
    "    model.add(layers.GlobalMaxPooling1D())\n",
    "    model.add(layers.Dense(128, activation = 'relu'))\n",
    "    model.add(layers.Dropout(0.5))\n",
    "    model.add(layers.Dense(1, activation = 'sigmoid'))\n",
    "    \n",
    "    return model"
   ]
  },
  {
   "cell_type": "code",
   "execution_count": null,
   "metadata": {},
   "outputs": [],
   "source": []
  }
 ],
 "metadata": {
  "kernelspec": {
   "display_name": "Python 3",
   "language": "python",
   "name": "python3"
  },
  "language_info": {
   "codemirror_mode": {
    "name": "ipython",
    "version": 3
   },
   "file_extension": ".py",
   "mimetype": "text/x-python",
   "name": "python",
   "nbconvert_exporter": "python",
   "pygments_lexer": "ipython3",
   "version": "3.7.7"
  }
 },
 "nbformat": 4,
 "nbformat_minor": 4
}
